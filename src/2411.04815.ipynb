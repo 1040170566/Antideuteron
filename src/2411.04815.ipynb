{
 "cells": [
  {
   "cell_type": "code",
   "execution_count": null,
   "metadata": {
    "vscode": {
     "languageId": "bat"
    }
   },
   "outputs": [],
   "source": [
    "ls"
   ]
  },
  {
   "cell_type": "code",
   "execution_count": null,
   "metadata": {},
   "outputs": [],
   "source": [
    "from matplotlib import pyplot as plt\n",
    "from scipy.stats import multivariate_normal, cumfreq\n",
    "import numpy as np\n"
   ]
  },
  {
   "cell_type": "code",
   "execution_count": null,
   "metadata": {},
   "outputs": [],
   "source": [
    "from Defines import ParticleInHepMC, DMAnihilationCompoundParticle\n",
    "from ReadTable import read_pppc4, read_cosmiXs"
   ]
  },
  {
   "cell_type": "code",
   "execution_count": null,
   "metadata": {},
   "outputs": [],
   "source": [
    "from Get_MG_Data import Files\n"
   ]
  },
  {
   "cell_type": "markdown",
   "metadata": {},
   "source": [
    "# $\\bar{p},\\bar{n}$能谱"
   ]
  },
  {
   "cell_type": "code",
   "execution_count": null,
   "metadata": {},
   "outputs": [],
   "source": [
    "list_all_pbar = []\n",
    "list_all_nbar = []\n",
    "EventsNumber = 0\n",
    "for f in Files:\n",
    "    list_all_pbar += f.get_pbar()\n",
    "    list_all_nbar += f.get_nbar()\n",
    "    EventsNumber += f.events_number\n",
    "\n",
    "list_all_antinucleons = list_all_pbar + list_all_nbar"
   ]
  },
  {
   "cell_type": "markdown",
   "metadata": {},
   "source": [
    "## 动能分布"
   ]
  },
  {
   "cell_type": "code",
   "execution_count": null,
   "metadata": {},
   "outputs": [],
   "source": [
    "# 将antinuclon中每个元素的动能提取出来组成一个numpy数组\n",
    "T_antinucleon = np.array([i.T for i in list_all_antinucleons])\n",
    "N_T_antinucleon, bins_T_antinucleon = np.histogram(T_antinucleon, bins='doane', density=False)\n",
    "dNdT_T_antinucleon = N_T_antinucleon / np.diff(bins_T_antinucleon) / EventsNumber\n",
    "\n",
    "T_pbar = np.array([i.T for i in list_all_pbar])\n",
    "N_T_pbar, bins_T_pbar = np.histogram(T_pbar, bins='doane', density=False)\n",
    "dNdT_T_pbar = N_T_pbar / np.diff(bins_T_pbar) / EventsNumber\n",
    "\n",
    "T_nbar = np.array([i.T for i in list_all_nbar])\n",
    "N_T_nbar, bins_T_nbar = np.histogram(T_nbar, bins='doane', density=False)\n",
    "dNdT_T_nbar = N_T_nbar / np.diff(bins_T_nbar) / EventsNumber\n"
   ]
  },
  {
   "cell_type": "code",
   "execution_count": null,
   "metadata": {},
   "outputs": [],
   "source": [
    "fig, ax = plt.subplots(2,1, figsize=(10,8), sharex=True)\n",
    "# plt.figure(\"反核子动能分布\")\n",
    "\n",
    "plot_bins_T_antinucleon = bins_T_antinucleon[:-1]+np.diff(bins_T_antinucleon)/2\n",
    "ax[0].scatter(plot_bins_T_antinucleon, dNdT_T_antinucleon, s=5, label=r'$\\bar{p}+\\bar{n}$')\n",
    "plot_bins_T_pbar = bins_T_pbar[:-1]+np.diff(bins_T_pbar)/2\n",
    "ax[0].scatter(plot_bins_T_pbar, dNdT_T_pbar, s=5, marker=',', label=r'$\\bar{p}$')\n",
    "plot_bins_T_nbar = bins_T_nbar[:-1]+np.diff(bins_T_nbar)/2\n",
    "ax[0].scatter(plot_bins_T_nbar, dNdT_T_nbar, s=5, marker='v', label=r'$\\bar{n}$')\n",
    "\n",
    "ax[0].set_yscale('log')\n",
    "ax[0].set_ylabel(r'$\\frac{dN}{dT}$ /(/GeV/annihilation)')\n",
    "ax[0].legend(loc = \"lower left\")\n",
    "ax[0].set_title('antinucleon kinetic energy distribution')\n",
    "\n",
    "ax[1].scatter(plot_bins_T_antinucleon, dNdT_T_antinucleon*plot_bins_T_antinucleon**2.0, s=5, label=r'$\\bar{p}+\\bar{n}$')\n",
    "ax[1].set_xscale('log')\n",
    "ax[1].set_yscale('log')\n",
    "ax[1].set_xlabel('T/GeV')\n",
    "ax[1].set_ylabel(r'$\\frac{dN}{dT}T^{2.7}$ /($GeV^{1.7}$/annihilation)')\n",
    "\n",
    "\n",
    "# plt.xlim(1e0, 1e2)\n",
    "# plt.ylim(1e-2, 10)"
   ]
  },
  {
   "cell_type": "markdown",
   "metadata": {},
   "source": [
    "## x分布"
   ]
  },
  {
   "cell_type": "code",
   "execution_count": null,
   "metadata": {},
   "outputs": [],
   "source": [
    "lg_x_pbar = np.array([i.lgx for i in list_all_antinucleons])\n",
    "N_lgx_pbar, bins_lgx_pbar = np.histogram(lg_x_pbar, bins='doane', density=False)\n",
    "dNdlgx_lgx_pbar = N_lgx_pbar / np.diff(bins_lgx_pbar) / EventsNumber\n",
    "\n",
    "bins_x_pbar = 10**bins_lgx_pbar\n",
    "\n",
    "x_pppc4, y_pppc4 = read_pppc4(\"../TestData/PPPC4/AtProduction_antiprotons.dat\", 100, 'b')[:2]"
   ]
  },
  {
   "cell_type": "code",
   "execution_count": null,
   "metadata": {},
   "outputs": [],
   "source": [
    "plt.figure(\"反核子x分布\")\n",
    "\n",
    "plt.scatter(bins_x_pbar[:-1]+np.diff(bins_x_pbar)/2, dNdlgx_lgx_pbar, s=10, label=r'$\\bar{p}+\\bar{n}$')\n",
    "plt.bar(bins_x_pbar[:-1], height=dNdlgx_lgx_pbar, width=np.diff(bins_x_pbar), alpha=0.5, align='edge')\n",
    "plt.plot(x_pppc4, y_pppc4, label='PPPC4')\n",
    "plt.xlim(1e-5, 1e0)\n",
    "plt.ylim(1e-2, 1e1)\n",
    "plt.xscale('log')\n",
    "plt.yscale('log')\n",
    "plt.ylabel(r'$\\frac{dN}{d logx}$ /(/annihilation)')\n",
    "plt.xlabel('x=$K/D_{DM}$')\n",
    "plt.legend()\n",
    "plt.title(r\"$\\bar{p}+\\bar{n}$ x primary spectra ($M_{DM}$=\"+f\"{round(list_all_pbar[0].mass_DM)}GeV)\")"
   ]
  },
  {
   "cell_type": "markdown",
   "metadata": {},
   "source": [
    "# $\\bar{D}$"
   ]
  },
  {
   "cell_type": "code",
   "execution_count": null,
   "metadata": {},
   "outputs": [],
   "source": [
    "M_antideuteron = 1.875612928  # 反氘核质量，单位GeV\n",
    "Pcoal = 0.195  # 聚结动量，单位GeV\n",
    "r_Dbar = 3e-12 # 反氘核半径3fm，单位mm\n",
    "\n",
    "x_Dbar_pppc4, dNdlgx_Dbar_pppc4, lgx_Dbar_pppc4 = read_pppc4(\"../TestData/PPPC4/AtProduction_antideuterons.dat\", 100, 'b')"
   ]
  },
  {
   "cell_type": "markdown",
   "metadata": {},
   "source": [
    "## Models\n"
   ]
  },
  {
   "cell_type": "code",
   "execution_count": null,
   "metadata": {},
   "outputs": [],
   "source": [
    "def LookForAntideuteronInPhraseSpace(pbars:list[ParticleInHepMC], nbars:list[ParticleInHepMC], *, model:int=1, delta_r:float=0, sigma:float=1.8, delta:float=1.8) -> list[DMAnihilationCompoundParticle]:\n",
    "    Dbars = []\n",
    "    # delta *= 5.068 # fm - > GeV^-1\n",
    "    MultiGauss = multivariate_normal(mean=[0, 0], cov=[sigma ** 2, 1/delta**2])\n",
    "    for a_pbar in pbars:\n",
    "        if a_pbar.IsComponent:\n",
    "            continue\n",
    "        for a_nbar in nbars:\n",
    "            if a_nbar.IsComponent:\n",
    "                continue\n",
    "            delta_p =a_pbar.ComputeP3Distance(a_nbar)\n",
    "            if (model == 1 or model == 2) and (delta_p <= Pcoal):\n",
    "                Dbar = DMAnihilationCompoundParticle(0, a_pbar.P+a_nbar.P, M_antideuteron)\n",
    "                Dbar.composition = [a_pbar, a_nbar]\n",
    "                Dbar.A = 2\n",
    "                Dbar.Z = -1\n",
    "                Dbars.append(Dbar)\n",
    "                a_pbar.IsComponent = True\n",
    "                a_nbar.IsComponent = True\n",
    "                break\n",
    "            elif (model == 3) and (np.random.rand() <= 1-MultiGauss.cdf([delta_r, delta_p * 5.068/2], lower_limit=[0,0])*4):\n",
    "                Dbar = DMAnihilationCompoundParticle(0, a_pbar.P+a_nbar.P, M_antideuteron)\n",
    "                Dbar.composition = [a_pbar, a_nbar]\n",
    "                Dbar.A = 2\n",
    "                Dbar.Z = -1\n",
    "                Dbars.append(Dbar)\n",
    "                a_pbar.IsComponent = True\n",
    "                a_nbar.IsComponent = True\n",
    "                break\n",
    "    return Dbars"
   ]
  },
  {
   "cell_type": "markdown",
   "metadata": {},
   "source": [
    "### Model 1--Simple coalescence model\n",
    "$$\\Delta \\vec{p}=|\\vec{p}_{\\bar{p}}-\\vec{p}_{\\bar{n}}|<p_{coal}$$"
   ]
  },
  {
   "cell_type": "code",
   "execution_count": null,
   "metadata": {},
   "outputs": [],
   "source": [
    "list_Dbar_1 = []\n",
    "for f in Files:\n",
    "    f.reset_component()\n",
    "    for event in f.events:\n",
    "        list_pbar = event.get_pbar()\n",
    "        list_nbar = event.get_nbar()\n",
    "        list_Dbar_1 += LookForAntideuteronInPhraseSpace(list_pbar, list_nbar, model=1)"
   ]
  },
  {
   "cell_type": "markdown",
   "metadata": {},
   "source": [
    "#### 累积频数"
   ]
  },
  {
   "cell_type": "code",
   "execution_count": null,
   "metadata": {},
   "outputs": [],
   "source": [
    "lgx_Dbar1 = [i.lgx for i in list_Dbar_1]\n",
    "# N_lgx_Dbar1, bins_lgx_Dbar1 = np.histogram(lgx_Dbar1, bins=\"doane\")\n",
    "res_Dbar1 = cumfreq(lgx_Dbar1, numbins=7)\n",
    "\n",
    "plt.figure(\"反氘x累积分布\")\n",
    "bar_bins = res_Dbar1.lowerlimit+np.arange(res_Dbar1.cumcount.size)*res_Dbar1.binsize\n",
    "plt.bar(bar_bins, res_Dbar1.cumcount/EventsNumber, width=res_Dbar1.binsize, align='edge', alpha=0.5)\n",
    "plt.yscale(\"log\")\n",
    "\n"
   ]
  },
  {
   "cell_type": "markdown",
   "metadata": {},
   "source": [
    "### Model 2--Simple coalescence model with a sharp cutoff in distance\n",
    "$$\\begin{align*}\n",
    "\\Delta \\vec{p}=|\\vec{p}_{\\bar{p}}-\\vec{p}_{\\bar{n}}|<p_{coal}\\\\\n",
    "\\Delta \\vec{r}<3fm\n",
    "\\end{align*}$$\n"
   ]
  },
  {
   "cell_type": "code",
   "execution_count": null,
   "metadata": {},
   "outputs": [],
   "source": [
    "list_Dbar_2 = []\n",
    "for f in Files:\n",
    "    f.reset_component()\n",
    "    for event in f.events:\n",
    "        vertices = event.vertices\n",
    "        for i in range(length_ver:=len(vertices)):\n",
    "            list_Dbar_2 += LookForAntideuteronInPhraseSpace(vertices[i].pbar, vertices[i].nbar, model=2)\n",
    "            for j in range(i+1, length_ver):\n",
    "                if (vertices[i].ComputeDistance(vertices[j]) <= r_Dbar):\n",
    "                    list_Dbar_2 += LookForAntideuteronInPhraseSpace(vertices[i].pbar, vertices[j].nbar, model=2)\n",
    "                    list_Dbar_2 += LookForAntideuteronInPhraseSpace(vertices[j].pbar, vertices[i].nbar, model=2)"
   ]
  },
  {
   "cell_type": "code",
   "execution_count": null,
   "metadata": {},
   "outputs": [],
   "source": [
    "[i.x for i in list_Dbar_2]"
   ]
  },
  {
   "cell_type": "markdown",
   "metadata": {},
   "source": [
    "### Model 3--Wigner approach with a Gaussian wavefunction (Gauss Wigner)\n",
    "$$\n",
    "\\begin{align}\n",
    "D(\\Delta \\vec{r}=\\vec{r}_p-\\vec{r}_n,\\Delta \\vec{p}=(\\vec{p}_p-\\vec{p}_n)/2)&=(\\frac{\\delta}{\\sigma})^3 e^{-\\Delta \\vec{r}^2/(2\\sigma^2)}e^{-\\Delta \\vec{p}^2\\delta^2/2},\\\\\n",
    "&?=4\\cdot N([0,0],[\\sigma^2,1/\\delta^2])\n",
    "\\end{align}\n",
    "$$\n",
    "对每一对$\\bar{p},\\bar{n}$，对应有一个$D(\\Delta \\vec{r},\\Delta \\vec{p})$，表示聚结概率密度，我们可以取一个随机数，小于其则形成反氘，否则不能形成。"
   ]
  },
  {
   "cell_type": "code",
   "execution_count": null,
   "metadata": {},
   "outputs": [],
   "source": [
    "list_Dbar_3 = []\n",
    "for f in Files:\n",
    "    f.reset_component()\n",
    "    for event in f.events:\n",
    "        vertices = event.vertices\n",
    "        for i in range(len_ver:=len(vertices)):\n",
    "            list_Dbar_3 += LookForAntideuteronInPhraseSpace(vertices[i].pbar, vertices[i].nbar, model=3)\n",
    "            for j in range(i+1, len_ver):\n",
    "                delta_r = vertices[i].ComputeDistance(vertices[j]) * 1e12 # mm->fm\n",
    "                list_Dbar_3 += LookForAntideuteronInPhraseSpace(vertices[i].pbar, vertices[j].nbar, model=3, delta_r=delta_r)\n",
    "                list_Dbar_3 += LookForAntideuteronInPhraseSpace(vertices[j].pbar, vertices[i].nbar, model=3, delta_r=delta_r)\n"
   ]
  },
  {
   "cell_type": "code",
   "execution_count": null,
   "metadata": {},
   "outputs": [],
   "source": [
    "a = 1\n",
    "# list_Dbar_3[a].composition[0].ComputeP3Distance(list_Dbar_3[a].composition[1])\n",
    "list_Dbar_3[a].composition\n",
    "print(f\"==>> list_Dbar_3[0].composition: {list_Dbar_3[0].composition}\")\n",
    "print(f\"==>> list_Dbar_3[1].composition: {list_Dbar_3[1].composition}\")"
   ]
  },
  {
   "cell_type": "markdown",
   "metadata": {},
   "source": [
    "#### 动能"
   ]
  },
  {
   "cell_type": "code",
   "execution_count": null,
   "metadata": {},
   "outputs": [],
   "source": [
    "T_Dbar = np.array([i.T for i in list_Dbar_3])\n",
    "N_T_Dbar, bins_T_Dbar = np.histogram(T_Dbar, bins='doane', density=False)\n",
    "dNdT_T_Dbar = N_T_Dbar / np.diff(bins_T_Dbar) / EventsNumber"
   ]
  },
  {
   "cell_type": "code",
   "execution_count": null,
   "metadata": {},
   "outputs": [],
   "source": [
    "plt.figure(\"反氘动能分布\")\n",
    "\n",
    "plt.scatter(bins_T_Dbar[:-1]+np.diff(bins_T_Dbar)/2, dNdT_T_Dbar, s=5, label=r'$\\bar{D}$')\n",
    "\n",
    "# plt.xlim(1e0, 1e2)\n",
    "# plt.ylim(1e-2, 10)\n",
    "plt.xscale('log')\n",
    "plt.yscale('log')\n",
    "plt.ylabel(r'$\\frac{dN}{dT}$ /(/GeV/annihilation)')\n",
    "plt.xlabel('T/GeV')\n",
    "plt.legend(loc = \"lower left\")\n",
    "plt.title('antinucleon kinetic energy distribution')"
   ]
  },
  {
   "cell_type": "markdown",
   "metadata": {},
   "source": [
    "#### x"
   ]
  },
  {
   "cell_type": "code",
   "execution_count": null,
   "metadata": {},
   "outputs": [],
   "source": [
    "lgx_Dbar = np.array([i.lgx for i in list_Dbar_3])\n",
    "N_lgx_Dbar, bins_lgx_Dbar = np.histogram(lgx_Dbar, bins='doane', density=False)\n",
    "dNdlgx_lgx_Dbar = N_lgx_Dbar / np.diff(bins_lgx_Dbar) / EventsNumber\n",
    "\n",
    "bins_x_Dbar = 10**bins_lgx_Dbar\n",
    "\n",
    "x_Dbar_cosmiXs, dNdlgx_Dbar_cosmiXs = read_cosmiXs(\"../TestData/AntiDeuterons/AtProduction-AntiD-GWF.dat\", 100, 'bb')"
   ]
  },
  {
   "cell_type": "code",
   "execution_count": null,
   "metadata": {},
   "outputs": [],
   "source": [
    "plt.figure(\"反氘x分布\")\n",
    "\n",
    "plt.scatter(bins_x_Dbar[:-1]+np.diff(bins_x_Dbar)/2, dNdlgx_lgx_Dbar, s=5, label=r'$\\bar{D}$')\n",
    "plt.plot(x_Dbar_pppc4, dNdlgx_Dbar_pppc4, label='PPPC4')\n",
    "plt.scatter(x_Dbar_cosmiXs, dNdlgx_Dbar_cosmiXs, s=3, label='CosmiXs')\n",
    "plt.xlim(1e-5, 1e0)\n",
    "# plt.ylim(1e-2, 1e1)\n",
    "plt.xscale('log')\n",
    "plt.yscale('log')\n",
    "plt.ylabel(r'$\\frac{dN}{d logx}$ /(/annihilation)')\n",
    "plt.xlabel('x=$K/D_{DM}$')\n",
    "plt.legend()\n",
    "plt.title(r\"$\\bar{D}$ x primary spectra ($M_{DM}$=\"+f\"{round(list_all_pbar[0].mass_DM)}GeV)\")"
   ]
  },
  {
   "cell_type": "markdown",
   "metadata": {},
   "source": [
    "### Model 4--Wigner approach with Argonne function (Argonne Wigner)\n"
   ]
  },
  {
   "cell_type": "code",
   "execution_count": null,
   "metadata": {},
   "outputs": [],
   "source": []
  },
  {
   "cell_type": "markdown",
   "metadata": {},
   "source": [
    "### Model 5--Spherical approach (INCORRECT!)"
   ]
  },
  {
   "cell_type": "markdown",
   "metadata": {},
   "source": [
    "## 动能分布"
   ]
  }
 ],
 "metadata": {
  "kernelspec": {
   "display_name": "madgraph",
   "language": "python",
   "name": "python3"
  },
  "language_info": {
   "codemirror_mode": {
    "name": "ipython",
    "version": 3
   },
   "file_extension": ".py",
   "mimetype": "text/x-python",
   "name": "python",
   "nbconvert_exporter": "python",
   "pygments_lexer": "ipython3",
   "version": "3.11.0"
  }
 },
 "nbformat": 4,
 "nbformat_minor": 2
}
